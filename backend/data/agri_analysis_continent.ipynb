{
 "cells": [
  {
   "cell_type": "code",
   "execution_count": 1,
   "id": "5706e4ad",
   "metadata": {},
   "outputs": [],
   "source": [
    "import pandas as pd\n",
    "import numpy as np\n",
    "import seaborn as sns\n",
    "import matplotlib.pyplot as plt\n",
    "from sklearn.feature_selection import VarianceThreshold\n",
    "from sklearn.feature_selection import f_regression\n",
    "from sklearn.metrics import classification_report\n",
    "from sklearn.preprocessing import StandardScaler\n",
    "from sklearn.model_selection import train_test_split\n",
    "from sklearn.metrics import mean_squared_error, mean_absolute_error, r2_score\n",
    "from tensorflow.keras.models import Sequential\n",
    "from tensorflow.keras.layers import SimpleRNN, LSTM, Dense\n",
    "from tensorflow.keras.optimizers import Adam\n",
    "from sklearn.model_selection import train_test_split\n",
    "from sklearn.metrics import (\n",
    "    accuracy_score, recall_score, f1_score,\n",
    "    balanced_accuracy_score, classification_report, confusion_matrix,\n",
    "    precision_score\n",
    ")\n",
    "from sklearn.preprocessing import StandardScaler\n",
    "from sklearn.pipeline import Pipeline\n",
    "\n",
    "from sklearn.neighbors import KNeighborsClassifier\n",
    "from sklearn.linear_model import LogisticRegression\n",
    "from sklearn.ensemble import RandomForestClassifier\n",
    "from sklearn.tree import DecisionTreeClassifier\n",
    "\n",
    "from imblearn.over_sampling import SMOTE\n",
    "from imblearn.under_sampling import TomekLinks, RandomUnderSampler\n",
    "from imblearn.pipeline import Pipeline as ImbPipeline\n",
    "from imblearn.combine import SMOTETomek\n",
    "from tensorflow.keras.callbacks import EarlyStopping\n"
   ]
  },
  {
   "cell_type": "code",
   "execution_count": 2,
   "id": "73fc41ad",
   "metadata": {},
   "outputs": [
    {
     "name": "stdout",
     "output_type": "stream",
     "text": [
      "Index(['Area', 'Year', 'Savanna fires', 'Forest fires', 'Crop Residues',\n",
      "       'Rice Cultivation', 'Drained organic soils (CO2)',\n",
      "       'Pesticides Manufacturing', 'Food Transport', 'Forestland',\n",
      "       'Net Forest conversion', 'Food Household Consumption', 'Food Retail',\n",
      "       'On-farm Electricity Use', 'Food Packaging',\n",
      "       'Agrifood Systems Waste Disposal', 'Food Processing',\n",
      "       'Fertilizers Manufacturing', 'IPPU', 'Manure applied to Soils',\n",
      "       'Manure left on Pasture', 'Manure Management', 'Fires in organic soils',\n",
      "       'Fires in humid tropical forests', 'On-farm energy use',\n",
      "       'Rural population', 'Urban population', 'Total Population - Male',\n",
      "       'Total Population - Female', 'total_emission',\n",
      "       'Average Temperature °C'],\n",
      "      dtype='object')\n"
     ]
    }
   ],
   "source": [
    "df = pd.read_csv(\"agri_CO2_preprocessing_ex.csv\")\n",
    "print(df.columns)"
   ]
  },
  {
   "cell_type": "code",
   "execution_count": 3,
   "id": "b0720e5f",
   "metadata": {},
   "outputs": [],
   "source": [
    "emission_cols = [\n",
    "    'Savanna fires', 'Forest fires', 'Crop Residues', 'Rice Cultivation',\n",
    "    'Drained organic soils (CO2)', 'Pesticides Manufacturing', 'Food Transport',\n",
    "    'Forestland', 'Net Forest conversion', 'Food Household Consumption',\n",
    "    'Food Retail', 'On-farm Electricity Use', 'Food Packaging',\n",
    "    'Agrifood Systems Waste Disposal', 'Food Processing', 'Fertilizers Manufacturing',\n",
    "    'IPPU', 'Manure applied to Soils', 'Manure left on Pasture', 'Manure Management',\n",
    "    'Fires in organic soils', 'Fires in humid tropical forests',\n",
    "    'On-farm energy use'\n",
    "]"
   ]
  },
  {
   "cell_type": "code",
   "execution_count": 4,
   "id": "e4fef83a",
   "metadata": {},
   "outputs": [],
   "source": [
    "# Dictionary of global annual temperature change\n",
    "yearly_avg_temp = {\n",
    "    1990: 0.18, 1991: -0.04, 1992: -0.19, 1993: 0.01, 1994: 0.08, \n",
    "    1995: 0.13, 1996: -0.11, 1997: 0.13, 1998: 0.15, 1999: -0.23, \n",
    "    2000: 0.01, 2001: 0.14, 2002: 0.10, 2003: -0.01, 2004: -0.09, \n",
    "    2005: 0.15, 2006: -0.04, 2007: 0.02, 2008: -0.12, 2009: 0.12, \n",
    "    2010: 0.07, 2011: -0.12, 2012: 0.04, 2013: 0.03, 2014: 0.07, \n",
    "    2015: 0.15, 2016: 0.11, 2017: -0.09, 2018: -0.07, 2019: 0.13, \n",
    "    2020: 0.03\n",
    "\n",
    "}\n",
    "\n",
    "# Map the temperature to the dataframe by Year\n",
    "df['Yearly_Avg_Temp'] = df['Year'].map(yearly_avg_temp)"
   ]
  },
  {
   "cell_type": "code",
   "execution_count": 5,
   "id": "29db6b40",
   "metadata": {},
   "outputs": [
    {
     "name": "stdout",
     "output_type": "stream",
     "text": [
      "Label occurences:\n",
      " temp_label\n",
      "1    6624\n",
      "0     310\n",
      "Name: count, dtype: int64\n"
     ]
    }
   ],
   "source": [
    "df['Detrended_Temp'] = df['Average Temperature °C'] - df['Yearly_Avg_Temp']\n",
    "df['temp_label'] = np.where(df['Detrended_Temp'] >= 0, 1, 0)\n",
    "print(\"Label occurences:\\n\", df[\"temp_label\"].value_counts())"
   ]
  },
  {
   "cell_type": "code",
   "execution_count": 6,
   "id": "3a174b44",
   "metadata": {},
   "outputs": [
    {
     "data": {
      "text/plain": [
       "continent\n",
       "Africa           1680\n",
       "Asia             1565\n",
       "Europe           1408\n",
       "North America    1137\n",
       "Oceania           680\n",
       "South America     403\n",
       "Other              61\n",
       "Name: count, dtype: int64"
      ]
     },
     "execution_count": 6,
     "metadata": {},
     "output_type": "execute_result"
    }
   ],
   "source": [
    "# 建立更新後的洲別分類對應（針對該資料實際出現的國家名稱）\n",
    "continent_mapping_updated = {\n",
    "    'Africa': [\n",
    "        'Algeria', 'Angola', 'Benin', 'Botswana', 'Burkina Faso', 'Burundi', 'Cabo Verde', 'Cameroon',\n",
    "        'Central African Republic', 'Chad', 'Comoros', 'Congo', 'Côte d\\'Ivoire', 'Djibouti', 'Egypt',\n",
    "        'Equatorial Guinea', 'Eritrea', 'Eswatini', 'Ethiopia', 'Gabon', 'Gambia', 'Ghana', 'Guinea',\n",
    "        'Guinea-Bissau', 'Kenya', 'Lesotho', 'Liberia', 'Libya', 'Madagascar', 'Malawi', 'Mali',\n",
    "        'Mauritania', 'Mauritius', 'Morocco', 'Mozambique', 'Namibia', 'Niger', 'Nigeria', 'Rwanda',\n",
    "        'Sao Tome and Principe', 'Senegal', 'Seychelles', 'Sierra Leone', 'Somalia', 'South Africa',\n",
    "        'South Sudan', 'Sudan', 'Togo', 'Tunisia', 'Uganda', 'Zambia', 'Zimbabwe'\n",
    "    ],\n",
    "    'Asia': [\n",
    "        'Afghanistan', 'Armenia', 'Azerbaijan', 'Bahrain', 'Bangladesh', 'Bhutan', 'Brunei Darussalam',\n",
    "        'Cambodia', 'China', 'China, mainland', 'China, Hong Kong SAR', 'China, Macao SAR',\n",
    "        'China, Taiwan Province of', 'Cyprus', 'Georgia', 'India', 'Indonesia', 'Iran', 'Iraq', 'Israel',\n",
    "        'Japan', 'Jordan', 'Kazakhstan', 'Kuwait', 'Kyrgyzstan', 'Laos', 'Lebanon', 'Malaysia', 'Maldives',\n",
    "        'Mongolia', 'Myanmar', 'Nepal', 'North Korea', 'Oman', 'Pakistan', 'Palestine', 'Philippines',\n",
    "        'Qatar', 'Saudi Arabia', 'Singapore', 'South Korea', 'Sri Lanka', 'Syria', 'Tajikistan', 'Thailand',\n",
    "        'Timor-Leste', 'Turkey', 'Turkmenistan', 'United Arab Emirates', 'Uzbekistan', 'Vietnam', 'Yemen'\n",
    "    ],\n",
    "    'Europe': [\n",
    "        'Albania', 'Andorra', 'Austria', 'Belarus', 'Belgium', 'Belgium-Luxembourg', 'Bosnia and Herzegovina',\n",
    "        'Bulgaria', 'Croatia', 'Czech Republic', 'Denmark', 'Estonia', 'Finland', 'France', 'Germany',\n",
    "        'Greece', 'Hungary', 'Iceland', 'Ireland', 'Italy', 'Latvia', 'Liechtenstein', 'Lithuania',\n",
    "        'Luxembourg', 'Malta', 'Moldova', 'Monaco', 'Montenegro', 'Netherlands', 'North Macedonia',\n",
    "        'Norway', 'Poland', 'Portugal', 'Romania', 'San Marino', 'Serbia', 'Slovakia', 'Slovenia', 'Spain',\n",
    "        'Sweden', 'Switzerland', 'Ukraine', 'United Kingdom'\n",
    "    ],\n",
    "    'North America': [\n",
    "        'Antigua and Barbuda', 'Bahamas', 'Barbados', 'Belize', 'Canada', 'Costa Rica', 'Cuba',\n",
    "        'Dominica', 'Dominican Republic', 'El Salvador', 'Grenada', 'Guatemala', 'Haiti', 'Honduras',\n",
    "        'Jamaica', 'Mexico', 'Nicaragua', 'Panama', 'Saint Kitts and Nevis', 'Saint Lucia',\n",
    "        'Saint Vincent and the Grenadines', 'Trinidad and Tobago', 'United States'\n",
    "    ],\n",
    "    'Oceania': [\n",
    "        'Australia', 'Fiji', 'Kiribati', 'Marshall Islands', 'Micronesia', 'Nauru', 'New Zealand',\n",
    "        'Palau', 'Papua New Guinea', 'Samoa', 'Solomon Islands', 'Tonga', 'Tuvalu', 'Vanuatu'\n",
    "    ],\n",
    "    'South America': [\n",
    "        'Argentina', 'Bolivia (Plurinational State of)', 'Brazil', 'Chile', 'Colombia', 'Ecuador',\n",
    "        'Guyana', 'Paraguay', 'Peru', 'Suriname', 'Uruguay', 'Venezuela'\n",
    "    ]\n",
    "}\n",
    "\n",
    "# 將國家指派到對應洲別\n",
    "def assign_continent(country):\n",
    "    for continent, countries in continent_mapping_updated.items():\n",
    "        if country in countries:\n",
    "            return continent\n",
    "    return \"Other\"  # 若無匹配則標為 Other\n",
    "\n",
    "# 套用洲別分類\n",
    "df['continent'] = df['Area'].apply(assign_continent)\n",
    "\n",
    "# 檢查每個洲包含幾筆資料\n",
    "# continent_counts = df['continent'].value_counts()\n",
    "# continent_counts\n",
    "\n",
    "manual_country_to_continent = {\n",
    "    # North America / Caribbean\n",
    "    'American Samoa': 'Oceania',\n",
    "    'Anguilla': 'North America',\n",
    "    'Aruba': 'North America',\n",
    "    'Bermuda': 'North America',\n",
    "    'British Virgin Islands': 'North America',\n",
    "    'Cayman Islands': 'North America',\n",
    "    'Cook Islands': 'Oceania',\n",
    "    'Falkland Islands (Malvinas)': 'South America',\n",
    "    'French Polynesia': 'Oceania',\n",
    "    'Greenland': 'North America',\n",
    "    'Guadeloupe': 'North America',\n",
    "    'Guam': 'Oceania',\n",
    "    'Martinique': 'North America',\n",
    "    'Mayotte': 'Africa',\n",
    "    'Montserrat': 'North America',\n",
    "    'Netherlands Antilles (former)': 'North America',\n",
    "    'New Caledonia': 'Oceania',\n",
    "    'Niue': 'Oceania',\n",
    "    'Northern Mariana Islands': 'Oceania',\n",
    "    'Pacific Islands Trust Territory': 'Oceania',\n",
    "    'Puerto Rico': 'North America',\n",
    "    'Saint Pierre and Miquelon': 'North America',\n",
    "    'Saint Helena, Ascension and Tristan da Cunha': 'Africa',\n",
    "    'Tokelau': 'Oceania',\n",
    "    'Turks and Caicos Islands': 'North America',\n",
    "    'United States Virgin Islands': 'North America',\n",
    "    'Wallis and Futuna Islands': 'Oceania',\n",
    "    'Western Sahara': 'Africa',\n",
    "\n",
    "    # Europe\n",
    "    'Faroe Islands': 'Europe',\n",
    "    'Gibraltar': 'Europe',\n",
    "    'Holy See': 'Europe',\n",
    "    'Isle of Man': 'Europe',\n",
    "    'Netherlands (Kingdom of the)': 'Europe',\n",
    "\n",
    "    # Asia\n",
    "    'Democratic People\\'s Republic of Korea': 'Asia',\n",
    "    'Iran (Islamic Republic of)': 'Asia',\n",
    "    'Lao People\\'s Democratic Republic': 'Asia',\n",
    "    'Republic of Korea': 'Asia',\n",
    "    'Syrian Arab Republic': 'Asia',\n",
    "    'Venezuela (Bolivarian Republic of)': 'South America',\n",
    "    'Viet Nam': 'Asia',\n",
    "\n",
    "    # Europe (historic or alt names)\n",
    "    'Czechia': 'Europe',\n",
    "    'Czechoslovakia': 'Europe',\n",
    "    'Republic of Moldova': 'Europe',\n",
    "    'Russian Federation': 'Europe',\n",
    "    'Serbia and Montenegro': 'Europe',\n",
    "    'United Kingdom of Great Britain and Northern Ireland': 'Europe',\n",
    "    'Yugoslav SFR': 'Europe',\n",
    "\n",
    "    # Africa\n",
    "    'Ethiopia PDR': 'Africa',\n",
    "    'United Republic of Tanzania': 'Africa',\n",
    "    'Sudan (former)': 'Africa',\n",
    "\n",
    "    # Other (defunct)\n",
    "    'USSR': 'Europe',\n",
    "    'United States of America': 'North America',\n",
    "}\n",
    "\n",
    "# 更新 assign_continent 函數\n",
    "def assign_continent_updated(country):\n",
    "    # 先檢查補充表\n",
    "    if country in manual_country_to_continent:\n",
    "        return manual_country_to_continent[country]\n",
    "    # 再檢查原始洲別表\n",
    "    for continent, countries in continent_mapping_updated.items():\n",
    "        if country in countries:\n",
    "            return continent\n",
    "    return \"Other\"\n",
    "\n",
    "# 套用更新後的洲別分類\n",
    "df[\"continent\"] = df[\"Area\"].apply(assign_continent_updated)\n",
    "\n",
    "# 檢查結果\n",
    "df[\"continent\"].value_counts()"
   ]
  },
  {
   "cell_type": "code",
   "execution_count": 7,
   "id": "52058591",
   "metadata": {},
   "outputs": [],
   "source": [
    "# 1. Drop near-constant columns\n",
    "vt = VarianceThreshold(threshold=0.01)  # tune threshold\n",
    "reduced_df = df[emission_cols]\n",
    "filtered = vt.fit_transform(reduced_df)\n",
    "\n",
    "# Get column names that survived\n",
    "selected_cols = [col for col, keep in zip(reduced_df.columns, vt.get_support()) if keep]\n",
    "# None dropped"
   ]
  },
  {
   "cell_type": "code",
   "execution_count": 10,
   "id": "823fb1df",
   "metadata": {},
   "outputs": [
    {
     "name": "stdout",
     "output_type": "stream",
     "text": [
      "Dropped due to correlation & p-value comparison: {'Agrifood Systems Waste Disposal', 'Food Processing', 'Manure Management', 'Fires in humid tropical forests', 'Fertilizers Manufacturing', 'On-farm energy use', 'Crop Residues', 'Food Packaging', 'Food Household Consumption'}\n",
      "Remaining features: ['Savanna fires', 'Forest fires', 'Rice Cultivation', 'Drained organic soils (CO2)', 'Pesticides Manufacturing', 'Food Transport', 'Forestland', 'Net Forest conversion', 'Food Retail', 'On-farm Electricity Use', 'IPPU', 'Manure applied to Soils', 'Manure left on Pasture', 'Fires in organic soils']\n"
     ]
    }
   ],
   "source": [
    "# Step 1: Correlation matrix (absolute values)\n",
    "corr_matrix = df[selected_cols].corr().abs()\n",
    "\n",
    "# Step 2: Upper triangle mask (excluding diagonal)\n",
    "upper_tri = corr_matrix.where(np.triu(np.ones(corr_matrix.shape), k=1).astype(bool))\n",
    "\n",
    "# Step 3: Calculate p-values for all features\n",
    "X = df[selected_cols]\n",
    "y = df['Detrended_Temp']\n",
    "f_vals, p_vals = f_regression(X, y)\n",
    "\n",
    "# Create a dictionary mapping feature -> p-value\n",
    "pval_dict = dict(zip(X.columns, p_vals))\n",
    "\n",
    "# Step 4: Identify correlated pairs and drop the one with higher p-value\n",
    "to_drop = set()\n",
    "for col in upper_tri.columns:\n",
    "    for row in upper_tri.index:\n",
    "        if row != col and upper_tri.loc[row, col] > 0.9:\n",
    "            p1 = pval_dict.get(row, 1.0)\n",
    "            p2 = pval_dict.get(col, 1.0)\n",
    "            if p1 > p2:\n",
    "                to_drop.add(row)\n",
    "            else:\n",
    "                to_drop.add(col)\n",
    "\n",
    "# Step 5: Filter columns\n",
    "filtered_cols = [col for col in selected_cols if col not in to_drop]\n",
    "\n",
    "print(\"Dropped due to correlation & p-value comparison:\", to_drop)\n",
    "print(\"Remaining features:\", filtered_cols)"
   ]
  },
  {
   "cell_type": "code",
   "execution_count": 11,
   "id": "a0f407b8",
   "metadata": {},
   "outputs": [
    {
     "data": {
      "text/html": [
       "<div>\n",
       "<style scoped>\n",
       "    .dataframe tbody tr th:only-of-type {\n",
       "        vertical-align: middle;\n",
       "    }\n",
       "\n",
       "    .dataframe tbody tr th {\n",
       "        vertical-align: top;\n",
       "    }\n",
       "\n",
       "    .dataframe thead th {\n",
       "        text-align: right;\n",
       "    }\n",
       "</style>\n",
       "<table border=\"1\" class=\"dataframe\">\n",
       "  <thead>\n",
       "    <tr style=\"text-align: right;\">\n",
       "      <th></th>\n",
       "      <th>Area</th>\n",
       "      <th>Year</th>\n",
       "      <th>Savanna fires</th>\n",
       "      <th>Forest fires</th>\n",
       "      <th>Crop Residues</th>\n",
       "      <th>Rice Cultivation</th>\n",
       "      <th>Drained organic soils (CO2)</th>\n",
       "      <th>Pesticides Manufacturing</th>\n",
       "      <th>Food Transport</th>\n",
       "      <th>Forestland</th>\n",
       "      <th>...</th>\n",
       "      <th>Rural population</th>\n",
       "      <th>Urban population</th>\n",
       "      <th>Total Population - Male</th>\n",
       "      <th>Total Population - Female</th>\n",
       "      <th>total_emission</th>\n",
       "      <th>Average Temperature °C</th>\n",
       "      <th>Yearly_Avg_Temp</th>\n",
       "      <th>Detrended_Temp</th>\n",
       "      <th>temp_label</th>\n",
       "      <th>continent</th>\n",
       "    </tr>\n",
       "  </thead>\n",
       "  <tbody>\n",
       "    <tr>\n",
       "      <th>0</th>\n",
       "      <td>Afghanistan</td>\n",
       "      <td>1990</td>\n",
       "      <td>14.7237</td>\n",
       "      <td>0.0557</td>\n",
       "      <td>205.6077</td>\n",
       "      <td>686.00</td>\n",
       "      <td>0.0</td>\n",
       "      <td>11.807483</td>\n",
       "      <td>63.1152</td>\n",
       "      <td>-2388.803</td>\n",
       "      <td>...</td>\n",
       "      <td>9655167</td>\n",
       "      <td>2593947</td>\n",
       "      <td>5348387.0</td>\n",
       "      <td>5346409.0</td>\n",
       "      <td>2198.963539</td>\n",
       "      <td>0.536167</td>\n",
       "      <td>0.18</td>\n",
       "      <td>0.356167</td>\n",
       "      <td>1</td>\n",
       "      <td>Asia</td>\n",
       "    </tr>\n",
       "    <tr>\n",
       "      <th>1</th>\n",
       "      <td>Afghanistan</td>\n",
       "      <td>1991</td>\n",
       "      <td>14.7237</td>\n",
       "      <td>0.0557</td>\n",
       "      <td>209.4971</td>\n",
       "      <td>678.16</td>\n",
       "      <td>0.0</td>\n",
       "      <td>11.712073</td>\n",
       "      <td>61.2125</td>\n",
       "      <td>-2388.803</td>\n",
       "      <td>...</td>\n",
       "      <td>10230490</td>\n",
       "      <td>2763167</td>\n",
       "      <td>5372959.0</td>\n",
       "      <td>5372208.0</td>\n",
       "      <td>2323.876629</td>\n",
       "      <td>0.020667</td>\n",
       "      <td>-0.04</td>\n",
       "      <td>0.060667</td>\n",
       "      <td>1</td>\n",
       "      <td>Asia</td>\n",
       "    </tr>\n",
       "    <tr>\n",
       "      <th>2</th>\n",
       "      <td>Afghanistan</td>\n",
       "      <td>1992</td>\n",
       "      <td>14.7237</td>\n",
       "      <td>0.0557</td>\n",
       "      <td>196.5341</td>\n",
       "      <td>686.00</td>\n",
       "      <td>0.0</td>\n",
       "      <td>11.712073</td>\n",
       "      <td>53.3170</td>\n",
       "      <td>-2388.803</td>\n",
       "      <td>...</td>\n",
       "      <td>10995568</td>\n",
       "      <td>2985663</td>\n",
       "      <td>6028494.0</td>\n",
       "      <td>6028939.0</td>\n",
       "      <td>2356.304229</td>\n",
       "      <td>-0.259583</td>\n",
       "      <td>-0.19</td>\n",
       "      <td>-0.069583</td>\n",
       "      <td>0</td>\n",
       "      <td>Asia</td>\n",
       "    </tr>\n",
       "    <tr>\n",
       "      <th>3</th>\n",
       "      <td>Afghanistan</td>\n",
       "      <td>1993</td>\n",
       "      <td>14.7237</td>\n",
       "      <td>0.0557</td>\n",
       "      <td>230.8175</td>\n",
       "      <td>686.00</td>\n",
       "      <td>0.0</td>\n",
       "      <td>11.712073</td>\n",
       "      <td>54.3617</td>\n",
       "      <td>-2388.803</td>\n",
       "      <td>...</td>\n",
       "      <td>11858090</td>\n",
       "      <td>3237009</td>\n",
       "      <td>7003641.0</td>\n",
       "      <td>7000119.0</td>\n",
       "      <td>2368.470529</td>\n",
       "      <td>0.101917</td>\n",
       "      <td>0.01</td>\n",
       "      <td>0.091917</td>\n",
       "      <td>1</td>\n",
       "      <td>Asia</td>\n",
       "    </tr>\n",
       "    <tr>\n",
       "      <th>4</th>\n",
       "      <td>Afghanistan</td>\n",
       "      <td>1994</td>\n",
       "      <td>14.7237</td>\n",
       "      <td>0.0557</td>\n",
       "      <td>242.0494</td>\n",
       "      <td>705.60</td>\n",
       "      <td>0.0</td>\n",
       "      <td>11.712073</td>\n",
       "      <td>53.9874</td>\n",
       "      <td>-2388.803</td>\n",
       "      <td>...</td>\n",
       "      <td>12690115</td>\n",
       "      <td>3482604</td>\n",
       "      <td>7733458.0</td>\n",
       "      <td>7722096.0</td>\n",
       "      <td>2500.768729</td>\n",
       "      <td>0.372250</td>\n",
       "      <td>0.08</td>\n",
       "      <td>0.292250</td>\n",
       "      <td>1</td>\n",
       "      <td>Asia</td>\n",
       "    </tr>\n",
       "  </tbody>\n",
       "</table>\n",
       "<p>5 rows × 35 columns</p>\n",
       "</div>"
      ],
      "text/plain": [
       "          Area  Year  Savanna fires  Forest fires  Crop Residues  \\\n",
       "0  Afghanistan  1990        14.7237        0.0557       205.6077   \n",
       "1  Afghanistan  1991        14.7237        0.0557       209.4971   \n",
       "2  Afghanistan  1992        14.7237        0.0557       196.5341   \n",
       "3  Afghanistan  1993        14.7237        0.0557       230.8175   \n",
       "4  Afghanistan  1994        14.7237        0.0557       242.0494   \n",
       "\n",
       "   Rice Cultivation  Drained organic soils (CO2)  Pesticides Manufacturing  \\\n",
       "0            686.00                          0.0                 11.807483   \n",
       "1            678.16                          0.0                 11.712073   \n",
       "2            686.00                          0.0                 11.712073   \n",
       "3            686.00                          0.0                 11.712073   \n",
       "4            705.60                          0.0                 11.712073   \n",
       "\n",
       "   Food Transport  Forestland  ...  Rural population  Urban population  \\\n",
       "0         63.1152   -2388.803  ...           9655167           2593947   \n",
       "1         61.2125   -2388.803  ...          10230490           2763167   \n",
       "2         53.3170   -2388.803  ...          10995568           2985663   \n",
       "3         54.3617   -2388.803  ...          11858090           3237009   \n",
       "4         53.9874   -2388.803  ...          12690115           3482604   \n",
       "\n",
       "   Total Population - Male  Total Population - Female  total_emission  \\\n",
       "0                5348387.0                  5346409.0     2198.963539   \n",
       "1                5372959.0                  5372208.0     2323.876629   \n",
       "2                6028494.0                  6028939.0     2356.304229   \n",
       "3                7003641.0                  7000119.0     2368.470529   \n",
       "4                7733458.0                  7722096.0     2500.768729   \n",
       "\n",
       "   Average Temperature °C  Yearly_Avg_Temp  Detrended_Temp  temp_label  \\\n",
       "0                0.536167             0.18        0.356167           1   \n",
       "1                0.020667            -0.04        0.060667           1   \n",
       "2               -0.259583            -0.19       -0.069583           0   \n",
       "3                0.101917             0.01        0.091917           1   \n",
       "4                0.372250             0.08        0.292250           1   \n",
       "\n",
       "   continent  \n",
       "0       Asia  \n",
       "1       Asia  \n",
       "2       Asia  \n",
       "3       Asia  \n",
       "4       Asia  \n",
       "\n",
       "[5 rows x 35 columns]"
      ]
     },
     "metadata": {},
     "output_type": "display_data"
    }
   ],
   "source": [
    "display(df.head())"
   ]
  },
  {
   "cell_type": "code",
   "execution_count": 12,
   "id": "b94148c7",
   "metadata": {},
   "outputs": [
    {
     "name": "stdout",
     "output_type": "stream",
     "text": [
      "\n",
      "🌍 Processing continent: Asia\n"
     ]
    },
    {
     "name": "stderr",
     "output_type": "stream",
     "text": [
      "c:\\Users\\USER\\AppData\\Local\\Programs\\Python\\Python312\\Lib\\site-packages\\keras\\src\\layers\\rnn\\rnn.py:200: UserWarning: Do not pass an `input_shape`/`input_dim` argument to a layer. When using Sequential models, prefer using an `Input(shape)` object as the first layer in the model instead.\n",
      "  super().__init__(**kwargs)\n",
      "WARNING:absl:You are saving your model as an HDF5 file via `model.save()` or `keras.saving.save_model(model)`. This file format is considered legacy. We recommend using instead the native Keras format, e.g. `model.save('my_model.keras')` or `keras.saving.save_model(model, 'my_model.keras')`. \n"
     ]
    },
    {
     "name": "stdout",
     "output_type": "stream",
     "text": [
      "\u001b[1m19/19\u001b[0m \u001b[32m━━━━━━━━━━━━━━━━━━━━\u001b[0m\u001b[37m\u001b[0m \u001b[1m0s\u001b[0m 13ms/step\n",
      "{'Continent': 'Asia', 'Sampling': 'SMOTE', 'Model': 'RNN', 'Accuracy': 0.7717206132879046, 'Recall': 0.6109215017064846, 'Recall (class 1)': 0.6109215017064846, 'Recall (class 0)': 0.9319727891156463, 'Precision (class 1)': 0.8994974874371859, 'Precision (class 0)': 0.7061855670103093, 'F1 Score (macro)': 0.765580669003171, 'Balanced Accuracy': 0.7714471454110654}\n",
      "Confusion Matrix:\n",
      "[[274  20]\n",
      " [114 179]]\n"
     ]
    },
    {
     "data": {
      "image/png": "[encoded data removed]",
      "text/plain": [
       "<Figure size 800x600 with 2 Axes>"
      ]
     },
     "metadata": {},
     "output_type": "display_data"
    },
    {
     "name": "stdout",
     "output_type": "stream",
     "text": [
      "              precision    recall  f1-score   support\n",
      "\n",
      "           0       0.71      0.93      0.80       294\n",
      "           1       0.90      0.61      0.73       293\n",
      "\n",
      "    accuracy                           0.77       587\n",
      "   macro avg       0.80      0.77      0.77       587\n",
      "weighted avg       0.80      0.77      0.77       587\n",
      "\n",
      "\n",
      "🌍 Processing continent: Europe\n"
     ]
    },
    {
     "name": "stderr",
     "output_type": "stream",
     "text": [
      "c:\\Users\\USER\\AppData\\Local\\Programs\\Python\\Python312\\Lib\\site-packages\\keras\\src\\layers\\rnn\\rnn.py:200: UserWarning: Do not pass an `input_shape`/`input_dim` argument to a layer. When using Sequential models, prefer using an `Input(shape)` object as the first layer in the model instead.\n",
      "  super().__init__(**kwargs)\n",
      "WARNING:absl:You are saving your model as an HDF5 file via `model.save()` or `keras.saving.save_model(model)`. This file format is considered legacy. We recommend using instead the native Keras format, e.g. `model.save('my_model.keras')` or `keras.saving.save_model(model, 'my_model.keras')`. \n"
     ]
    },
    {
     "name": "stdout",
     "output_type": "stream",
     "text": [
      "\u001b[1m17/17\u001b[0m \u001b[32m━━━━━━━━━━━━━━━━━━━━\u001b[0m\u001b[37m\u001b[0m \u001b[1m0s\u001b[0m 13ms/step\n",
      "{'Continent': 'Europe', 'Sampling': 'SMOTE', 'Model': 'RNN', 'Accuracy': 0.774859287054409, 'Recall': 0.6766917293233082, 'Recall (class 1)': 0.6766917293233082, 'Recall (class 0)': 0.8726591760299626, 'Precision (class 1)': 0.8411214953271028, 'Precision (class 0)': 0.7304075235109718, 'F1 Score (macro)': 0.7726109215017065, 'Balanced Accuracy': 0.7746754526766354}\n",
      "Confusion Matrix:\n",
      "[[233  34]\n",
      " [ 86 180]]\n"
     ]
    },
    {
     "data": {
      "image/png": "[encoded data removed]",
      "text/plain": [
       "<Figure size 800x600 with 2 Axes>"
      ]
     },
     "metadata": {},
     "output_type": "display_data"
    },
    {
     "name": "stdout",
     "output_type": "stream",
     "text": [
      "              precision    recall  f1-score   support\n",
      "\n",
      "           0       0.73      0.87      0.80       267\n",
      "           1       0.84      0.68      0.75       266\n",
      "\n",
      "    accuracy                           0.77       533\n",
      "   macro avg       0.79      0.77      0.77       533\n",
      "weighted avg       0.79      0.77      0.77       533\n",
      "\n",
      "\n",
      "🌍 Processing continent: Africa\n"
     ]
    },
    {
     "name": "stderr",
     "output_type": "stream",
     "text": [
      "c:\\Users\\USER\\AppData\\Local\\Programs\\Python\\Python312\\Lib\\site-packages\\keras\\src\\layers\\rnn\\rnn.py:200: UserWarning: Do not pass an `input_shape`/`input_dim` argument to a layer. When using Sequential models, prefer using an `Input(shape)` object as the first layer in the model instead.\n",
      "  super().__init__(**kwargs)\n",
      "WARNING:absl:You are saving your model as an HDF5 file via `model.save()` or `keras.saving.save_model(model)`. This file format is considered legacy. We recommend using instead the native Keras format, e.g. `model.save('my_model.keras')` or `keras.saving.save_model(model, 'my_model.keras')`. \n"
     ]
    },
    {
     "name": "stdout",
     "output_type": "stream",
     "text": [
      "\u001b[1m21/21\u001b[0m \u001b[32m━━━━━━━━━━━━━━━━━━━━\u001b[0m\u001b[37m\u001b[0m \u001b[1m0s\u001b[0m 11ms/step\n",
      "{'Continent': 'Africa', 'Sampling': 'SMOTE', 'Model': 'RNN', 'Accuracy': 0.9247311827956989, 'Recall': 0.9046153846153846, 'Recall (class 1)': 0.9046153846153846, 'Recall (class 0)': 0.9447852760736196, 'Precision (class 1)': 0.9423076923076923, 'Precision (class 0)': 0.9085545722713865, 'F1 Score (macro)': 0.9246963562753037, 'Balanced Accuracy': 0.924700330344502}\n",
      "Confusion Matrix:\n",
      "[[308  18]\n",
      " [ 31 294]]\n"
     ]
    },
    {
     "data": {
      "image/png": "[encoded data removed]",
      "text/plain": [
       "<Figure size 800x600 with 2 Axes>"
      ]
     },
     "metadata": {},
     "output_type": "display_data"
    },
    {
     "name": "stdout",
     "output_type": "stream",
     "text": [
      "              precision    recall  f1-score   support\n",
      "\n",
      "           0       0.91      0.94      0.93       326\n",
      "           1       0.94      0.90      0.92       325\n",
      "\n",
      "    accuracy                           0.92       651\n",
      "   macro avg       0.93      0.92      0.92       651\n",
      "weighted avg       0.93      0.92      0.92       651\n",
      "\n",
      "\n",
      "🌍 Processing continent: Oceania\n"
     ]
    },
    {
     "name": "stderr",
     "output_type": "stream",
     "text": [
      "c:\\Users\\USER\\AppData\\Local\\Programs\\Python\\Python312\\Lib\\site-packages\\keras\\src\\layers\\rnn\\rnn.py:200: UserWarning: Do not pass an `input_shape`/`input_dim` argument to a layer. When using Sequential models, prefer using an `Input(shape)` object as the first layer in the model instead.\n",
      "  super().__init__(**kwargs)\n",
      "WARNING:absl:You are saving your model as an HDF5 file via `model.save()` or `keras.saving.save_model(model)`. This file format is considered legacy. We recommend using instead the native Keras format, e.g. `model.save('my_model.keras')` or `keras.saving.save_model(model, 'my_model.keras')`. \n"
     ]
    },
    {
     "name": "stdout",
     "output_type": "stream",
     "text": [
      "\u001b[1m9/9\u001b[0m \u001b[32m━━━━━━━━━━━━━━━━━━━━\u001b[0m\u001b[37m\u001b[0m \u001b[1m0s\u001b[0m 30ms/step\n",
      "{'Continent': 'Oceania', 'Sampling': 'SMOTE', 'Model': 'RNN', 'Accuracy': 0.7276264591439688, 'Recall': 0.609375, 'Recall (class 1)': 0.609375, 'Recall (class 0)': 0.8449612403100775, 'Precision (class 1)': 0.7959183673469388, 'Precision (class 0)': 0.6855345911949685, 'F1 Score (macro)': 0.723604965585054, 'Balanced Accuracy': 0.7271681201550387}\n",
      "Confusion Matrix:\n",
      "[[109  20]\n",
      " [ 50  78]]\n"
     ]
    },
    {
     "data": {
      "image/png": "[encoded data removed]",
      "text/plain": [
       "<Figure size 800x600 with 2 Axes>"
      ]
     },
     "metadata": {},
     "output_type": "display_data"
    },
    {
     "name": "stdout",
     "output_type": "stream",
     "text": [
      "              precision    recall  f1-score   support\n",
      "\n",
      "           0       0.69      0.84      0.76       129\n",
      "           1       0.80      0.61      0.69       128\n",
      "\n",
      "    accuracy                           0.73       257\n",
      "   macro avg       0.74      0.73      0.72       257\n",
      "weighted avg       0.74      0.73      0.72       257\n",
      "\n",
      "\n",
      "🌍 Processing continent: North America\n"
     ]
    },
    {
     "name": "stderr",
     "output_type": "stream",
     "text": [
      "c:\\Users\\USER\\AppData\\Local\\Programs\\Python\\Python312\\Lib\\site-packages\\keras\\src\\layers\\rnn\\rnn.py:200: UserWarning: Do not pass an `input_shape`/`input_dim` argument to a layer. When using Sequential models, prefer using an `Input(shape)` object as the first layer in the model instead.\n",
      "  super().__init__(**kwargs)\n",
      "WARNING:absl:You are saving your model as an HDF5 file via `model.save()` or `keras.saving.save_model(model)`. This file format is considered legacy. We recommend using instead the native Keras format, e.g. `model.save('my_model.keras')` or `keras.saving.save_model(model, 'my_model.keras')`. \n"
     ]
    },
    {
     "name": "stdout",
     "output_type": "stream",
     "text": [
      "\u001b[1m14/14\u001b[0m \u001b[32m━━━━━━━━━━━━━━━━━━━━\u001b[0m\u001b[37m\u001b[0m \u001b[1m0s\u001b[0m 5ms/step  \n",
      "{'Continent': 'North America', 'Sampling': 'SMOTE', 'Model': 'RNN', 'Accuracy': 0.9665178571428571, 'Recall': 0.9464285714285714, 'Recall (class 1)': 0.9464285714285714, 'Recall (class 0)': 0.9866071428571429, 'Precision (class 1)': 0.986046511627907, 'Precision (class 0)': 0.9484978540772532, 'F1 Score (macro)': 0.9665043389840646, 'Balanced Accuracy': 0.9665178571428572}\n",
      "Confusion Matrix:\n",
      "[[221   3]\n",
      " [ 12 212]]\n"
     ]
    },
    {
     "data": {
      "image/png": "[encoded data removed]",
      "text/plain": [
       "<Figure size 800x600 with 2 Axes>"
      ]
     },
     "metadata": {},
     "output_type": "display_data"
    },
    {
     "name": "stdout",
     "output_type": "stream",
     "text": [
      "              precision    recall  f1-score   support\n",
      "\n",
      "           0       0.95      0.99      0.97       224\n",
      "           1       0.99      0.95      0.97       224\n",
      "\n",
      "    accuracy                           0.97       448\n",
      "   macro avg       0.97      0.97      0.97       448\n",
      "weighted avg       0.97      0.97      0.97       448\n",
      "\n",
      "\n",
      "🌍 Processing continent: South America\n"
     ]
    },
    {
     "name": "stderr",
     "output_type": "stream",
     "text": [
      "c:\\Users\\USER\\AppData\\Local\\Programs\\Python\\Python312\\Lib\\site-packages\\keras\\src\\layers\\rnn\\rnn.py:200: UserWarning: Do not pass an `input_shape`/`input_dim` argument to a layer. When using Sequential models, prefer using an `Input(shape)` object as the first layer in the model instead.\n",
      "  super().__init__(**kwargs)\n",
      "WARNING:absl:You are saving your model as an HDF5 file via `model.save()` or `keras.saving.save_model(model)`. This file format is considered legacy. We recommend using instead the native Keras format, e.g. `model.save('my_model.keras')` or `keras.saving.save_model(model, 'my_model.keras')`. \n"
     ]
    },
    {
     "name": "stdout",
     "output_type": "stream",
     "text": [
      "\u001b[1m5/5\u001b[0m \u001b[32m━━━━━━━━━━━━━━━━━━━━\u001b[0m\u001b[37m\u001b[0m \u001b[1m0s\u001b[0m 63ms/step\n",
      "{'Continent': 'South America', 'Sampling': 'SMOTE', 'Model': 'RNN', 'Accuracy': 0.9102564102564102, 'Recall': 0.8589743589743589, 'Recall (class 1)': 0.8589743589743589, 'Recall (class 0)': 0.9615384615384616, 'Precision (class 1)': 0.9571428571428572, 'Precision (class 0)': 0.872093023255814, 'F1 Score (macro)': 0.9100197758734344, 'Balanced Accuracy': 0.9102564102564102}\n",
      "Confusion Matrix:\n",
      "[[75  3]\n",
      " [11 67]]\n"
     ]
    },
    {
     "data": {
      "image/png": "[encoded data removed]",
      "text/plain": [
       "<Figure size 800x600 with 2 Axes>"
      ]
     },
     "metadata": {},
     "output_type": "display_data"
    },
    {
     "name": "stdout",
     "output_type": "stream",
     "text": [
      "              precision    recall  f1-score   support\n",
      "\n",
      "           0       0.87      0.96      0.91        78\n",
      "           1       0.96      0.86      0.91        78\n",
      "\n",
      "    accuracy                           0.91       156\n",
      "   macro avg       0.91      0.91      0.91       156\n",
      "weighted avg       0.91      0.91      0.91       156\n",
      "\n",
      "\n",
      "🌍 Processing continent: Other\n"
     ]
    },
    {
     "name": "stderr",
     "output_type": "stream",
     "text": [
      "c:\\Users\\USER\\AppData\\Local\\Programs\\Python\\Python312\\Lib\\site-packages\\keras\\src\\layers\\rnn\\rnn.py:200: UserWarning: Do not pass an `input_shape`/`input_dim` argument to a layer. When using Sequential models, prefer using an `Input(shape)` object as the first layer in the model instead.\n",
      "  super().__init__(**kwargs)\n",
      "WARNING:absl:You are saving your model as an HDF5 file via `model.save()` or `keras.saving.save_model(model)`. This file format is considered legacy. We recommend using instead the native Keras format, e.g. `model.save('my_model.keras')` or `keras.saving.save_model(model, 'my_model.keras')`. \n"
     ]
    },
    {
     "name": "stdout",
     "output_type": "stream",
     "text": [
      "\u001b[1m1/1\u001b[0m \u001b[32m━━━━━━━━━━━━━━━━━━━━\u001b[0m\u001b[37m\u001b[0m \u001b[1m0s\u001b[0m 235ms/step\n",
      "{'Continent': 'Other', 'Sampling': 'SMOTE', 'Model': 'RNN', 'Accuracy': 0.9, 'Recall': 0.9, 'Recall (class 1)': 0.9, 'Recall (class 0)': 0.9, 'Precision (class 1)': 0.9, 'Precision (class 0)': 0.9, 'F1 Score (macro)': 0.9, 'Balanced Accuracy': 0.9}\n",
      "Confusion Matrix:\n",
      "[[9 1]\n",
      " [1 9]]\n"
     ]
    },
    {
     "data": {
      "image/png": "[encoded data removed]",
      "text/plain": [
       "<Figure size 800x600 with 2 Axes>"
      ]
     },
     "metadata": {},
     "output_type": "display_data"
    },
    {
     "name": "stdout",
     "output_type": "stream",
     "text": [
      "              precision    recall  f1-score   support\n",
      "\n",
      "           0       0.90      0.90      0.90        10\n",
      "           1       0.90      0.90      0.90        10\n",
      "\n",
      "    accuracy                           0.90        20\n",
      "   macro avg       0.90      0.90      0.90        20\n",
      "weighted avg       0.90      0.90      0.90        20\n",
      "\n"
     ]
    }
   ],
   "source": [
    "# X = df[filtered_cols]\n",
    "#　y = df['Average Temperature °C']\n",
    "continents = df['continent'].unique()\n",
    "rnn_results = []\n",
    "\n",
    "rnn_sampling_strategies = {\n",
    "    'SMOTE': SMOTE(random_state=42),\n",
    "}\n",
    "\n",
    "for continent in continents:\n",
    "    print(f\"\\n🌍 Processing continent: {continent}\")\n",
    "    \n",
    "    # Filter by continent\n",
    "    df_continent = df[df['continent'] == continent]\n",
    "\n",
    "    # Define X and y\n",
    "    X = df_continent[filtered_cols]\n",
    "    y = df_continent['temp_label']\n",
    "\n",
    "    for name, sampler in rnn_sampling_strategies.items():\n",
    "        # Scale\n",
    "        scaler = StandardScaler()\n",
    "        X_scaled = scaler.fit_transform(X)\n",
    "\n",
    "        # Apply sampler\n",
    "        X_resampled, y_resampled = sampler.fit_resample(X_scaled, y)\n",
    "\n",
    "        # Reshape for RNN: (samples, timesteps, features)\n",
    "        X_rnn = X_resampled.reshape((X_resampled.shape[0], 1, X_resampled.shape[1]))\n",
    "\n",
    "        # Split\n",
    "        X_train_rnn, X_test_rnn, y_train_rnn, y_test_rnn = train_test_split(X_rnn, y_resampled, stratify=y_resampled, test_size=0.2, random_state=42)\n",
    "\n",
    "        # RNN Model\n",
    "        rnn_model = Sequential([\n",
    "            SimpleRNN(32, activation='relu', input_shape=(1, X.shape[1])),\n",
    "            Dense(16, activation='relu'),\n",
    "            Dense(1, activation='sigmoid')\n",
    "        ])\n",
    "        rnn_model.compile(optimizer=Adam(0.001), loss='binary_crossentropy', metrics=['accuracy'])\n",
    "\n",
    "        # Define EarlyStopping callback\n",
    "        early_stopping = EarlyStopping(monitor='val_loss', patience=5, restore_best_weights=True)\n",
    "\n",
    "        # Train RNN with EarlyStopping\n",
    "        history = rnn_model.fit(\n",
    "            X_train_rnn, y_train_rnn, \n",
    "            epochs=100, \n",
    "            batch_size=16, \n",
    "            validation_split=0.2, \n",
    "            verbose=0,\n",
    "            callbacks=[early_stopping]\n",
    "        )\n",
    "\n",
    "\n",
    "        rnn_model.save(f\"rnn_model_{continent}.h5\")\n",
    "\n",
    "        y_pred_rnn = (rnn_model.predict(X_test_rnn) > 0.5).astype(int)\n",
    "\n",
    "        print({\n",
    "            'Continent': continent,\n",
    "            'Sampling': name,\n",
    "            'Model': 'RNN',\n",
    "            'Accuracy': accuracy_score(y_test_rnn, y_pred_rnn),\n",
    "            'Recall' : recall_score(y_test_rnn, y_pred_rnn),\n",
    "            'Recall (class 1)': recall_score(y_test_rnn, y_pred_rnn, pos_label=1),\n",
    "            'Recall (class 0)': recall_score(y_test_rnn, y_pred_rnn, pos_label=0),\n",
    "            'Precision (class 1)': precision_score(y_test_rnn, y_pred_rnn, pos_label=1),\n",
    "            'Precision (class 0)': precision_score(y_test_rnn, y_pred_rnn, pos_label=0),\n",
    "            'F1 Score (macro)': f1_score(y_test_rnn, y_pred_rnn, average='macro'),\n",
    "            'Balanced Accuracy': balanced_accuracy_score(y_test_rnn, y_pred_rnn)\n",
    "        })\n",
    "        \n",
    "        # Get confusion matrix\n",
    "        cm = confusion_matrix(y_test_rnn, y_pred_rnn)\n",
    "\n",
    "        # Display the confusion matrix\n",
    "        print(\"Confusion Matrix:\")\n",
    "        print(cm)\n",
    "        plt.figure(figsize=(8, 6))\n",
    "        sns.heatmap(cm, annot=True, fmt='d', cmap='Blues')\n",
    "        plt.title('Confusion Matrix')\n",
    "        plt.ylabel('Actual Label')\n",
    "        plt.xlabel('Predicted Label')\n",
    "        # plt.savefig(\"confusion.png\")\n",
    "        plt.show()\n",
    "        print(classification_report(y_test_rnn, y_pred_rnn))\n",
    "        "
   ]
  },
  {
   "cell_type": "code",
   "execution_count": null,
   "id": "1a8f7509",
   "metadata": {},
   "outputs": [],
   "source": []
  },
  {
   "cell_type": "code",
   "execution_count": null,
   "id": "de242a5c",
   "metadata": {},
   "outputs": [],
   "source": [
    "# Get confusion matrix\n",
    "cm = confusion_matrix(y_test_rnn, y_pred_rnn)\n",
    "\n",
    "# Display the confusion matrix\n",
    "print(\"Confusion Matrix:\")\n",
    "print(cm)\n",
    "plt.figure(figsize=(8, 6))\n",
    "sns.heatmap(cm, annot=True, fmt='d', cmap='Blues')\n",
    "plt.title('Confusion Matrix')\n",
    "plt.ylabel('Actual Label')\n",
    "plt.xlabel('Predicted Label')\n",
    "plt.savefig(\"confusion.png\")\n",
    "plt.show()"
   ]
  },
  {
   "cell_type": "code",
   "execution_count": null,
   "id": "f86647a3",
   "metadata": {},
   "outputs": [],
   "source": [
    "\n",
    "print(classification_report(y_test_rnn, y_pred_rnn))"
   ]
  }
 ],
 "metadata": {
  "kernelspec": {
   "display_name": "Python 3",
   "language": "python",
   "name": "python3"
  },
  "language_info": {
   "codemirror_mode": {
    "name": "ipython",
    "version": 3
   },
   "file_extension": ".py",
   "mimetype": "text/x-python",
   "name": "python",
   "nbconvert_exporter": "python",
   "pygments_lexer": "ipython3",
   "version": "3.12.0"
  }
 },
 "nbformat": 4,
 "nbformat_minor": 5
}
